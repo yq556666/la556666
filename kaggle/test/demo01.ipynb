{
 "cells": [
  {
   "cell_type": "code",
   "execution_count": 1,
   "metadata": {},
   "outputs": [
    {
     "data": {
      "text/plain": [
       "'\\n日常的数据分析中，经常需要将数据根据某个（多个）字段分%debug为不同的群体进行分析，如社交领域将用户\\n根据画像（性别，年龄）进行细分等等，这篇文章介绍groupby的基本原理和对应的agg, transform和apply的操作\\n\\n'"
      ]
     },
     "execution_count": 1,
     "metadata": {},
     "output_type": "execute_result"
    }
   ],
   "source": [
    "import pandas as pd\n",
    "import numpy as np\n",
    "\n",
    "\n",
    "#pandas groupby用法\n",
    "\n",
    "'''\n",
    "日常的数据分析中，经常需要将数据根据某个（多个）字段分%debug为不同的群体进行分析，如社交领域将用户\n",
    "根据画像（性别，年龄）进行细分等等，这篇文章介绍groupby的基本原理和对应的agg, transform和apply的操作\n",
    "\n",
    "'''"
   ]
  },
  {
   "cell_type": "code",
   "execution_count": 2,
   "metadata": {},
   "outputs": [
    {
     "name": "stdout",
     "output_type": "stream",
     "text": [
      "  company  salary  age\n",
      "0       C      11   17\n",
      "1       A       9   25\n",
      "2       C       7   16\n",
      "3       B      33   46\n",
      "4       A      13   21\n"
     ]
    }
   ],
   "source": [
    "company=[\"A\",\"B\",\"C\"]\n",
    "\n",
    "data=pd.DataFrame({\n",
    "    \"company\":[company[x] for x in np.random.randint(0,len(company),10)],\n",
    "    \"salary\":np.random.randint(5,50,10),\n",
    "    \"age\":np.random.randint(15,50,10)\n",
    "}\n",
    ")\n",
    "\n",
    "\n",
    "print(data.head())"
   ]
  },
  {
   "cell_type": "code",
   "execution_count": 3,
   "metadata": {},
   "outputs": [
    {
     "data": {
      "text/plain": [
       "[('A',\n",
       "    company  salary  age\n",
       "  1       A       9   25\n",
       "  4       A      13   21\n",
       "  6       A      13   35\n",
       "  8       A      17   19\n",
       "  9       A      19   48),\n",
       " ('B',\n",
       "    company  salary  age\n",
       "  3       B      33   46\n",
       "  7       B      22   42),\n",
       " ('C',\n",
       "    company  salary  age\n",
       "  0       C      11   17\n",
       "  2       C       7   16\n",
       "  5       C      41   30)]"
      ]
     },
     "execution_count": 3,
     "metadata": {},
     "output_type": "execute_result"
    }
   ],
   "source": [
    "group1 = data.groupby('company')\n",
    "list(group1)"
   ]
  },
  {
   "cell_type": "code",
   "execution_count": 4,
   "metadata": {},
   "outputs": [
    {
     "data": {
      "text/plain": [
       "'\\nagg就是聚合%save作，可以求和，均值，最大值，最小值，min,max,mean,sum,median,std,var(方差),count\\n\\n'"
      ]
     },
     "execution_count": 4,
     "metadata": {},
     "output_type": "execute_result"
    }
   ],
   "source": [
    "\"\"\"\n",
    "agg就是聚合%save作，可以求和，均值，最大值，最小值，min,max,mean,sum,median,std,var(方差),count\n",
    "\n",
    "\"\"\""
   ]
  },
  {
   "cell_type": "code",
   "execution_count": 5,
   "metadata": {},
   "outputs": [
    {
     "name": "stdout",
     "output_type": "stream",
     "text": [
      "  company  salary  age\n",
      "0       C      11   17\n",
      "1       A       9   25\n",
      "2       C       7   16\n"
     ]
    }
   ],
   "source": [
    "mean_company = data.groupby('company').agg('mean')\n",
    "# print(mean_company)\n",
    "print(data.head(3))"
   ]
  },
  {
   "cell_type": "code",
   "execution_count": 6,
   "metadata": {},
   "outputs": [
    {
     "name": "stdout",
     "output_type": "stream",
     "text": [
      "         salary   age\n",
      "company              \n",
      "A          13.0  29.6\n",
      "B          27.5  44.0\n",
      "C          11.0  21.0\n"
     ]
    }
   ],
   "source": [
    "#对不同的列求不同的值\n",
    "mean_company = data.groupby('company').agg({'salary':'median','age':'mean'})\n",
    "print(mean_company)"
   ]
  },
  {
   "cell_type": "code",
   "execution_count": 7,
   "metadata": {},
   "outputs": [
    {
     "name": "stdout",
     "output_type": "stream",
     "text": [
      "{'A': 14.2, 'B': 27.5, 'C': 19.666666666666668}\n"
     ]
    }
   ],
   "source": [
    "#如果将所在公司的平均薪水加入一列，用agg则可以表示为\n",
    "\n",
    "avg_salary = data.groupby('company')['salary'].agg('mean').to_dict()\n",
    "print(avg_salary)\n",
    "data['avg_salary'] = data['company'].map(avg_salary)\n",
    "#注意map很映射复杂的函数"
   ]
  },
  {
   "cell_type": "code",
   "execution_count": 8,
   "metadata": {},
   "outputs": [
    {
     "name": "stdout",
     "output_type": "stream",
     "text": [
      "  company  salary  age  avg_salary\n",
      "0       C      11   17   19.666667\n",
      "1       A       9   25   14.200000\n",
      "2       C       7   16   19.666667\n",
      "3       B      33   46   27.500000\n",
      "4       A      13   21   14.200000\n",
      "5       C      41   30   19.666667\n",
      "6       A      13   35   14.200000\n",
      "7       B      22   42   27.500000\n",
      "8       A      17   19   14.200000\n",
      "9       A      19   48   14.200000\n"
     ]
    }
   ],
   "source": [
    "print(data)"
   ]
  },
  {
   "cell_type": "code",
   "execution_count": 11,
   "metadata": {},
   "outputs": [
    {
     "name": "stdout",
     "output_type": "stream",
     "text": [
      "  company  salary  age  avg_salary  average_2\n",
      "0       C      11   17   19.666667  19.666667\n",
      "1       A       9   25   14.200000  14.200000\n",
      "2       C       7   16   19.666667  19.666667\n",
      "3       B      33   46   27.500000  27.500000\n",
      "4       A      13   21   14.200000  14.200000\n",
      "5       C      41   30   19.666667  19.666667\n",
      "6       A      13   35   14.200000  14.200000\n",
      "7       B      22   42   27.500000  27.500000\n",
      "8       A      17   19   14.200000  14.200000\n",
      "9       A      19   48   14.200000  14.200000\n"
     ]
    }
   ],
   "source": [
    "#如果用transform就非常简单\n",
    "data['average_2'] = data.groupby('company')['salary'].transform('mean')\n",
    "print(data)"
   ]
  },
  {
   "cell_type": "code",
   "execution_count": 12,
   "metadata": {},
   "outputs": [
    {
     "data": {
      "text/plain": [
       "'\\napply应该是大家的老朋友了，它相比agg和transform而言更加灵活，能够传入任意自定义的函数，实现复杂的数据操作。在Pandas数据处理三板斧——map、apply、applymap详解中，介绍了apply的使用，那在groupby后使用apply和之前所介绍的有什么区别呢？\\n\\n区别是有的，但是整个实现原理是基本一致的。两者的区别在于，对于groupby后的apply，以分组后的子DataFrame作为参数传入指定函数的，基本操作单位是DataFrame，而之前介绍的apply的基本操作单位是Series。还是以一个案例来介绍groupby后的apply用法。\\n\\n'"
      ]
     },
     "execution_count": 12,
     "metadata": {},
     "output_type": "execute_result"
    }
   ],
   "source": [
    "'''\n",
    "apply应该是大家的老朋友了，它相比agg和transform而言更加灵活，能够传入任意自定义的函数，实现复杂的数据操作。在Pandas数据处理三板斧——map、apply、applymap详解中，介绍了apply的使用，那在groupby后使用apply和之前所介绍的有什么区别呢？\n",
    "\n",
    "区别是有的，但是整个实现原理是基本一致的。两者的区别在于，对于groupby后的apply，以分组后的子DataFrame作为参数传入指定函数的，基本操作单位是DataFrame，而之前介绍的apply的基本操作单位是Series。还是以一个案例来介绍groupby后的apply用法。\n",
    "\n",
    "'''"
   ]
  },
  {
   "cell_type": "code",
   "execution_count": 14,
   "metadata": {},
   "outputs": [],
   "source": [
    "def get_oldest_staff(x):\n",
    "    df = x.sort_values(by = 'age', ascending = True)\n",
    "    return df.iloc[-1,:]\n",
    "\n",
    "oldest_staff =data.groupby('company').apply(get_oldest_staff)"
   ]
  },
  {
   "cell_type": "code",
   "execution_count": 15,
   "metadata": {},
   "outputs": [
    {
     "name": "stdout",
     "output_type": "stream",
     "text": [
      "        company  salary  age  avg_salary  average_2\n",
      "company                                            \n",
      "A             A      19   48   14.200000  14.200000\n",
      "B             B      33   46   27.500000  27.500000\n",
      "C             C      41   30   19.666667  19.666667\n"
     ]
    }
   ],
   "source": [
    "print(oldest_staff)"
   ]
  },
  {
   "cell_type": "code",
   "execution_count": null,
   "metadata": {},
   "outputs": [],
   "source": []
  }
 ],
 "metadata": {
  "kernelspec": {
   "display_name": "Python 3",
   "language": "python",
   "name": "python3"
  },
  "language_info": {
   "codemirror_mode": {
    "name": "ipython",
    "version": 3
   },
   "file_extension": ".py",
   "mimetype": "text/x-python",
   "name": "python",
   "nbconvert_exporter": "python",
   "pygments_lexer": "ipython3",
   "version": "3.7.6"
  }
 },
 "nbformat": 4,
 "nbformat_minor": 4
}
