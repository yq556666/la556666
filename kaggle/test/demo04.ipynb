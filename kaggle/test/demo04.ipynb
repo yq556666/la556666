{
 "cells": [
  {
   "cell_type": "code",
   "execution_count": 1,
   "metadata": {},
   "outputs": [],
   "source": [
    "#时间窗口函数 pandas\n",
    "\n",
    "import matplotlib.pylab as plt\n",
    "import numpy as np\n",
    "import pandas as pd \n",
    "import random\n"
   ]
  },
  {
   "cell_type": "code",
   "execution_count": 2,
   "metadata": {},
   "outputs": [],
   "source": [
    "index = pd.date_range('20190116','20190130')\n",
    "data  =[4,8,6,5,9,1,4,5,2,4,6,7,9,13,6]\n",
    "ser_data = pd.Series(data,index=index)"
   ]
  },
  {
   "cell_type": "code",
   "execution_count": 3,
   "metadata": {},
   "outputs": [
    {
     "data": {
      "text/plain": [
       "2019-01-16     4\n",
       "2019-01-17     8\n",
       "2019-01-18     6\n",
       "2019-01-19     5\n",
       "2019-01-20     9\n",
       "2019-01-21     1\n",
       "2019-01-22     4\n",
       "2019-01-23     5\n",
       "2019-01-24     2\n",
       "2019-01-25     4\n",
       "2019-01-26     6\n",
       "2019-01-27     7\n",
       "2019-01-28     9\n",
       "2019-01-29    13\n",
       "2019-01-30     6\n",
       "Freq: D, dtype: int64"
      ]
     },
     "execution_count": 3,
     "metadata": {},
     "output_type": "execute_result"
    }
   ],
   "source": [
    "ser_data"
   ]
  },
  {
   "cell_type": "code",
   "execution_count": 10,
   "metadata": {},
   "outputs": [
    {
     "data": {
      "text/plain": [
       "Rolling [window=3,center=False,axis=0]"
      ]
     },
     "execution_count": 10,
     "metadata": {},
     "output_type": "execute_result"
    }
   ],
   "source": [
    "ser_data.rolling(3)"
   ]
  },
  {
   "cell_type": "code",
   "execution_count": 8,
   "metadata": {},
   "outputs": [
    {
     "data": {
      "text/plain": [
       "2019-01-16    4.000000\n",
       "2019-01-17    6.000000\n",
       "2019-01-18    6.000000\n",
       "2019-01-19    6.333333\n",
       "2019-01-20    6.666667\n",
       "2019-01-21    5.000000\n",
       "2019-01-22    4.666667\n",
       "2019-01-23    3.333333\n",
       "2019-01-24    3.666667\n",
       "2019-01-25    3.666667\n",
       "2019-01-26    4.000000\n",
       "2019-01-27    5.666667\n",
       "2019-01-28    7.333333\n",
       "2019-01-29    9.666667\n",
       "2019-01-30    9.333333\n",
       "Freq: D, dtype: float64"
      ]
     },
     "execution_count": 8,
     "metadata": {},
     "output_type": "execute_result"
    }
   ],
   "source": [
    "ser_data.rolling(3, min_periods=1).mean()"
   ]
  },
  {
   "cell_type": "code",
   "execution_count": 9,
   "metadata": {},
   "outputs": [
    {
     "name": "stdout",
     "output_type": "stream",
     "text": [
      "0.23604808973743452\n",
      "0.23604808973743452\n",
      "0.23604808973743452\n",
      "0.23604808973743452\n",
      "0.23604808973743452\n"
     ]
    }
   ],
   "source": [
    "# #random.seed理解\n",
    "\n",
    "# for i in range(5):\n",
    "# #     random.seed(3)\n",
    "#     a = random.random()\n",
    "#     random.seed(4)\n",
    "#     print(a)"
   ]
  },
  {
   "cell_type": "code",
   "execution_count": null,
   "metadata": {},
   "outputs": [],
   "source": []
  },
  {
   "cell_type": "code",
   "execution_count": null,
   "metadata": {},
   "outputs": [],
   "source": []
  }
 ],
 "metadata": {
  "kernelspec": {
   "display_name": "Python 3",
   "language": "python",
   "name": "python3"
  },
  "language_info": {
   "codemirror_mode": {
    "name": "ipython",
    "version": 3
   },
   "file_extension": ".py",
   "mimetype": "text/x-python",
   "name": "python",
   "nbconvert_exporter": "python",
   "pygments_lexer": "ipython3",
   "version": "3.7.6"
  }
 },
 "nbformat": 4,
 "nbformat_minor": 4
}
