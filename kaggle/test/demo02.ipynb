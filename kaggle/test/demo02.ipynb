{
 "cells": [
  {
   "cell_type": "code",
   "execution_count": 1,
   "metadata": {},
   "outputs": [
    {
     "data": {
      "text/plain": [
       "'\\npandas 三板斧 map apply applymap\\n\\n日常的数据处理，经常会对一个Datafram进行逐行，逐列，逐元素的操做\\n'"
      ]
     },
     "execution_count": 1,
     "metadata": {},
     "output_type": "execute_result"
    }
   ],
   "source": [
    "\"\"\"\n",
    "pandas 三板斧 map apply applymap\n",
    "\n",
    "日常的数据处理，经常会对一个Datafram进行逐行，逐列，逐元素的操做\n",
    "\"\"\""
   ]
  },
  {
   "cell_type": "code",
   "execution_count": 30,
   "metadata": {},
   "outputs": [],
   "source": [
    "import numpy as np\n",
    "import pandas as pd\n",
    "\n",
    "boolean=[True,False]\n",
    "gender=[\"男\",\"女\"]\n",
    "color=[\"white\",\"black\",\"yellow\"]\n",
    "data=pd.DataFrame({\n",
    "    \"height\":np.random.randint(150,190,100),\n",
    "    \"weight\":np.random.randint(40,90,100),\n",
    "    \"smoker\":[boolean[x] for x in np.random.randint(0,2,100)],\n",
    "    \"gender\":[gender[x] for x in np.random.randint(0,2,100)],\n",
    "    \"age\":np.random.randint(15,90,100),\n",
    "    \"color\":[color[x] for x in np.random.randint(0,len(color),100) ]})"
   ]
  },
  {
   "cell_type": "code",
   "execution_count": 31,
   "metadata": {},
   "outputs": [
    {
     "name": "stdout",
     "output_type": "stream",
     "text": [
      "   height  weight  smoker gender  age   color\n",
      "0     182      41   False      女   18  yellow\n",
      "1     150      61   False      男   40   black\n"
     ]
    }
   ],
   "source": [
    "print(data.head(2))"
   ]
  },
  {
   "cell_type": "code",
   "execution_count": 32,
   "metadata": {},
   "outputs": [
    {
     "name": "stdout",
     "output_type": "stream",
     "text": [
      "   height  weight  smoker  gender  age   color\n",
      "0     182      41   False       0   18  yellow\n",
      "1     150      61   False       1   40   black\n"
     ]
    }
   ],
   "source": [
    "#map 把数据集中男替换为1，女替换为0 map就是把数字逐个传入字典或者函数中进行映射\n",
    "data['gender'] = data['gender'].map({'男':1,\"女\":0})#使用字典\n",
    "\n",
    "print(data.head(2))"
   ]
  },
  {
   "cell_type": "code",
   "execution_count": 33,
   "metadata": {},
   "outputs": [
    {
     "name": "stdout",
     "output_type": "stream",
     "text": [
      "   height  weight  smoker  gender  age   color\n",
      "0     182      41   False       4   18  yellow\n",
      "1     150      61   False       4   40   black\n"
     ]
    }
   ],
   "source": [
    "#使用函数\n",
    "\n",
    "def map_gender(x):\n",
    "    gender =2 if x==\"男\" else 4\n",
    "    return gender\n",
    "data['gender'] = data['gender'].map(map_gender)\n",
    "print(data.head(2))"
   ]
  },
  {
   "cell_type": "code",
   "execution_count": 35,
   "metadata": {},
   "outputs": [
    {
     "data": {
      "text/plain": [
       "'\\napply的作用原理与map方法类似，区别在于apply可以传入功能更为复杂的函数, map传入的函数只能有一个参数，\\napply则可以增加参数\\n'"
      ]
     },
     "execution_count": 35,
     "metadata": {},
     "output_type": "execute_result"
    }
   ],
   "source": [
    "'''\n",
    "apply的作用原理与map方法类似，区别在于apply可以传入功能更为复杂的函数, map传入的函数只能有一个参数，\n",
    "apply则可以增加参数\n",
    "'''"
   ]
  },
  {
   "cell_type": "code",
   "execution_count": 36,
   "metadata": {},
   "outputs": [
    {
     "name": "stdout",
     "output_type": "stream",
     "text": [
      "   height  weight  smoker  gender  age   color\n",
      "0     182      41   False       4   15  yellow\n",
      "1     150      61   False       4   37   black\n",
      "2     165      40    True       4   80  yellow\n"
     ]
    }
   ],
   "source": [
    "def apply_age(x,bias):\n",
    "    return x+bias\n",
    "\n",
    "data['age'] = data['age'].apply(apply_age,args=(-3,))\n",
    "print(data.head(3))"
   ]
  },
  {
   "cell_type": "code",
   "execution_count": null,
   "metadata": {},
   "outputs": [],
   "source": []
  },
  {
   "cell_type": "code",
   "execution_count": null,
   "metadata": {},
   "outputs": [],
   "source": []
  }
 ],
 "metadata": {
  "kernelspec": {
   "display_name": "Python 3",
   "language": "python",
   "name": "python3"
  },
  "language_info": {
   "codemirror_mode": {
    "name": "ipython",
    "version": 3
   },
   "file_extension": ".py",
   "mimetype": "text/x-python",
   "name": "python",
   "nbconvert_exporter": "python",
   "pygments_lexer": "ipython3",
   "version": "3.7.6"
  }
 },
 "nbformat": 4,
 "nbformat_minor": 4
}
